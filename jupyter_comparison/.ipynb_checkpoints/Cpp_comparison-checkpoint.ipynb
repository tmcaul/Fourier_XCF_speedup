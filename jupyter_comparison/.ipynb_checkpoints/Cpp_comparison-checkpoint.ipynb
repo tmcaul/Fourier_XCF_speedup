{
 "cells": [
  {
   "cell_type": "code",
   "execution_count": 1,
   "metadata": {},
   "outputs": [],
   "source": [
    "import numpy as np\n",
    "import scipy.signal as sp\n",
    "import pandas as pd"
   ]
  },
  {
   "cell_type": "code",
   "execution_count": 2,
   "metadata": {},
   "outputs": [],
   "source": [
    "n=100\n",
    "\n",
    "XCF_roisize=120\n",
    "XCF_mesh=50\n",
    "data_fill=[i for i in range(0,100)]\n",
    "red_roisize=len(data_fill)\n"
   ]
  },
  {
   "cell_type": "code",
   "execution_count": 3,
   "metadata": {},
   "outputs": [],
   "source": [
    "# im1_df=pd.read_csv('/Users/tom/Documents/GitHub/Fourier_XCF_speedup/im1')\n",
    "# im2_df=pd.read_csv('/Users/tom/Documents/GitHub/Fourier_XCF_speedup/im2')\n",
    "\n",
    "# array1=im1_df.to_numpy()\n",
    "# array2=im2_df.to_numpy()"
   ]
  },
  {
   "cell_type": "code",
   "execution_count": 4,
   "metadata": {},
   "outputs": [],
   "source": [
    "array1=np.zeros((n,n))\n",
    "array2=np.zeros((n,n))\n",
    "\n",
    "for i in range(0,n):\n",
    "    for j in range(0,n):\n",
    "        array1[i][j]=2*i*i*(i-50)+5+7*j+2;\n",
    "\n",
    "for i in range(0,n):\n",
    "    for j in range(0,n):\n",
    "        array2[i][j]=7*j*j*(j-5)+8*i;"
   ]
  },
  {
   "cell_type": "code",
   "execution_count": 5,
   "metadata": {},
   "outputs": [],
   "source": [
    "ROI_ref=np.fft.fft2(array1)\n",
    "ROI_test=np.fft.fft2(array2)"
   ]
  },
  {
   "cell_type": "code",
   "execution_count": 6,
   "metadata": {},
   "outputs": [],
   "source": [
    "CC=np.zeros((XCF_roisize*2,XCF_roisize*2),dtype='complex')\n",
    "\n",
    "ind1=int(XCF_roisize-np.floor(red_roisize/2))\n",
    "ind2=int(XCF_roisize+np.floor((red_roisize-1)/2))+1"
   ]
  },
  {
   "cell_type": "code",
   "execution_count": 7,
   "metadata": {},
   "outputs": [],
   "source": [
    "f=np.fft.fftshift(ROI_test*np.conj(ROI_ref))\n",
    "CC[ind1:ind2,ind1:ind2]= f"
   ]
  },
  {
   "cell_type": "code",
   "execution_count": 8,
   "metadata": {},
   "outputs": [
    {
     "data": {
      "text/plain": [
       "array([[0.+0.j, 0.+0.j, 0.+0.j, ..., 0.+0.j, 0.+0.j, 0.+0.j],\n",
       "       [0.+0.j, 0.+0.j, 0.+0.j, ..., 0.+0.j, 0.+0.j, 0.+0.j],\n",
       "       [0.+0.j, 0.+0.j, 0.+0.j, ..., 0.+0.j, 0.+0.j, 0.+0.j],\n",
       "       ...,\n",
       "       [0.+0.j, 0.+0.j, 0.+0.j, ..., 0.+0.j, 0.+0.j, 0.+0.j],\n",
       "       [0.+0.j, 0.+0.j, 0.+0.j, ..., 0.+0.j, 0.+0.j, 0.+0.j],\n",
       "       [0.+0.j, 0.+0.j, 0.+0.j, ..., 0.+0.j, 0.+0.j, 0.+0.j]])"
      ]
     },
     "execution_count": 8,
     "metadata": {},
     "output_type": "execute_result"
    }
   ],
   "source": [
    "CC"
   ]
  },
  {
   "cell_type": "code",
   "execution_count": 9,
   "metadata": {},
   "outputs": [
    {
     "data": {
      "text/plain": [
       "array([[ 2.90219990e+11-1.97737439e-07j, -2.90183221e+11+2.03372664e+06j,\n",
       "         2.90016218e+11-1.05273438e+06j, ...,\n",
       "        -2.89498198e+11+1.48879123e+06j,  2.89785976e+11+1.05273437e+06j,\n",
       "        -2.90067177e+11-2.03372664e+06j],\n",
       "       [-2.90170092e+11+6.64074006e+05j,  2.90133323e+11-2.69780065e+06j,\n",
       "        -2.89966320e+11+1.71680838e+06j, ...,\n",
       "         2.89448300e+11-2.15286524e+06j, -2.89736078e+11-3.88660369e+05j,\n",
       "         2.90017279e+11+1.36965264e+06j],\n",
       "       [ 2.90078271e+11-3.43750000e+05j, -2.90041502e+11+2.37747664e+06j,\n",
       "         2.89874499e+11-1.39648438e+06j, ...,\n",
       "        -2.89356479e+11+1.83254123e+06j,  2.89644257e+11+7.08984375e+05j,\n",
       "        -2.89925458e+11-1.68997664e+06j],\n",
       "       ...,\n",
       "       [-2.90095794e+11+4.86135912e+05j,  2.90059025e+11-2.51986255e+06j,\n",
       "        -2.89892022e+11+1.53887029e+06j, ...,\n",
       "         2.89374002e+11-1.97492714e+06j, -2.89661780e+11-5.66598463e+05j,\n",
       "         2.89942981e+11+1.54759073e+06j],\n",
       "       [ 2.90153452e+11+3.43750000e+05j, -2.90116683e+11+1.68997664e+06j,\n",
       "         2.89949680e+11-7.08984375e+05j, ...,\n",
       "        -2.89431660e+11+1.14504123e+06j,  2.89719438e+11+1.39648438e+06j,\n",
       "        -2.90000639e+11-2.37747664e+06j],\n",
       "       [-2.90207984e+11-6.64074006e+05j,  2.90171215e+11-1.36965264e+06j,\n",
       "        -2.90004212e+11+3.88660369e+05j, ...,\n",
       "         2.89486192e+11-8.24717225e+05j, -2.89773970e+11-1.71680838e+06j,\n",
       "         2.90055171e+11+2.69780065e+06j]])"
      ]
     },
     "execution_count": 9,
     "metadata": {},
     "output_type": "execute_result"
    }
   ],
   "source": [
    "CC=np.fft.ifft2(CC)\n",
    "#CC[3,4]=1234+0j\n",
    "CC"
   ]
  },
  {
   "cell_type": "code",
   "execution_count": 10,
   "metadata": {},
   "outputs": [],
   "source": [
    "chi=np.amax(CC)\n",
    "loc=np.argmax(CC)\n",
    "rloc,cloc=np.unravel_index(loc,CC.shape)\n",
    "rlocsave=rloc\n",
    "clocsave=cloc"
   ]
  },
  {
   "cell_type": "code",
   "execution_count": 11,
   "metadata": {},
   "outputs": [],
   "source": [
    "XCF_roisize2=2*XCF_roisize\n",
    "if rloc > XCF_roisize:\n",
    "    row_shift = rloc - XCF_roisize2\n",
    "else:\n",
    "    row_shift = rloc\n",
    "\n",
    "if cloc > XCF_roisize:\n",
    "    col_shift = cloc - XCF_roisize2\n",
    "else:\n",
    "    col_shift = cloc\n",
    "\n",
    "row_shift = row_shift/2\n",
    "col_shift = col_shift/2"
   ]
  },
  {
   "cell_type": "code",
   "execution_count": 12,
   "metadata": {},
   "outputs": [
    {
     "data": {
      "text/plain": [
       "0.0"
      ]
     },
     "execution_count": 12,
     "metadata": {},
     "output_type": "execute_result"
    }
   ],
   "source": [
    "row_shift"
   ]
  },
  {
   "cell_type": "code",
   "execution_count": 13,
   "metadata": {},
   "outputs": [
    {
     "data": {
      "text/plain": [
       "0.0"
      ]
     },
     "execution_count": 13,
     "metadata": {},
     "output_type": "execute_result"
    }
   ],
   "source": [
    "col_shift"
   ]
  },
  {
   "cell_type": "code",
   "execution_count": 14,
   "metadata": {},
   "outputs": [],
   "source": [
    "#DFT computation\n",
    "row_shift = round(row_shift*XCF_mesh)/XCF_mesh\n",
    "col_shift = round(col_shift*XCF_mesh)/XCF_mesh\n",
    "dftshift = np.floor(np.ceil(XCF_mesh*1.5)/2)\n",
    "\n",
    "#matrix multiply DFT around current shift estimate\n",
    "roff=dftshift-row_shift*XCF_mesh\n",
    "coff=dftshift-col_shift*XCF_mesh"
   ]
  },
  {
   "cell_type": "code",
   "execution_count": 15,
   "metadata": {},
   "outputs": [
    {
     "data": {
      "text/plain": [
       "0.0"
      ]
     },
     "execution_count": 15,
     "metadata": {},
     "output_type": "execute_result"
    }
   ],
   "source": [
    "row_shift"
   ]
  },
  {
   "cell_type": "code",
   "execution_count": 16,
   "metadata": {},
   "outputs": [],
   "source": [
    "#computer kernels and obtain DFT by matrix products\n",
    "prefac=-1j*2*np.pi/(XCF_roisize*XCF_mesh)"
   ]
  },
  {
   "cell_type": "code",
   "execution_count": 17,
   "metadata": {},
   "outputs": [
    {
     "data": {
      "text/plain": [
       "-0.0010471975511965976j"
      ]
     },
     "execution_count": 17,
     "metadata": {},
     "output_type": "execute_result"
    }
   ],
   "source": [
    "prefac"
   ]
  },
  {
   "cell_type": "code",
   "execution_count": 18,
   "metadata": {},
   "outputs": [],
   "source": [
    "c1=[i for i in range(0,(XCF_roisize))]\n",
    "c_i=np.fft.ifftshift(c1).T - np.floor(XCF_roisize/2)\n",
    "c_i=c_i[data_fill]\n",
    "c_i=np.expand_dims(c_i,1)\n",
    "\n",
    "r_i=np.fft.ifftshift(c1) - np.floor(XCF_roisize/2)\n",
    "r_i=r_i[data_fill]\n",
    "r_i=np.expand_dims(r_i,0)"
   ]
  },
  {
   "cell_type": "code",
   "execution_count": 19,
   "metadata": {},
   "outputs": [
    {
     "data": {
      "text/plain": [
       "array([[  0.,   1.,   2.,   3.,   4.,   5.,   6.,   7.,   8.,   9.,  10.,\n",
       "         11.,  12.,  13.,  14.,  15.,  16.,  17.,  18.,  19.,  20.,  21.,\n",
       "         22.,  23.,  24.,  25.,  26.,  27.,  28.,  29.,  30.,  31.,  32.,\n",
       "         33.,  34.,  35.,  36.,  37.,  38.,  39.,  40.,  41.,  42.,  43.,\n",
       "         44.,  45.,  46.,  47.,  48.,  49.,  50.,  51.,  52.,  53.,  54.,\n",
       "         55.,  56.,  57.,  58.,  59., -60., -59., -58., -57., -56., -55.,\n",
       "        -54., -53., -52., -51., -50., -49., -48., -47., -46., -45., -44.,\n",
       "        -43., -42., -41., -40., -39., -38., -37., -36., -35., -34., -33.,\n",
       "        -32., -31., -30., -29., -28., -27., -26., -25., -24., -23., -22.,\n",
       "        -21.]])"
      ]
     },
     "execution_count": 19,
     "metadata": {},
     "output_type": "execute_result"
    }
   ],
   "source": [
    "r_i"
   ]
  },
  {
   "cell_type": "code",
   "execution_count": 20,
   "metadata": {},
   "outputs": [],
   "source": [
    "m=np.array([i for i in range(0,int(np.ceil(XCF_mesh*1.5)))])\n",
    "m1=np.expand_dims(m,0)\n",
    "m2=np.expand_dims(m,1)"
   ]
  },
  {
   "cell_type": "code",
   "execution_count": 21,
   "metadata": {},
   "outputs": [],
   "source": [
    "import numexpr as ne\n",
    "\n",
    "arg1=(c_i)@(m1-coff)\n",
    "arg2=(m2-roff)@(r_i)\n",
    "\n",
    "kernc=ne.evaluate('exp(prefac*arg1)')\n",
    "kernr=ne.evaluate('exp(prefac*arg2)')\n",
    "kern = ROI_ref*ne.evaluate('conj(ROI_test)')\n",
    "arg3=kernr@kern@kernc\n",
    "CC2 = ne.evaluate('conj(arg3)')"
   ]
  },
  {
   "cell_type": "code",
   "execution_count": 22,
   "metadata": {},
   "outputs": [
    {
     "data": {
      "text/plain": [
       "-0.0010471975511965976j"
      ]
     },
     "execution_count": 22,
     "metadata": {},
     "output_type": "execute_result"
    }
   ],
   "source": [
    "prefac"
   ]
  },
  {
   "cell_type": "code",
   "execution_count": 23,
   "metadata": {},
   "outputs": [
    {
     "data": {
      "text/plain": [
       "array([[1.64651250e+16-1.14335750e+14j, 1.64698913e+16-1.12661815e+14j,\n",
       "        1.64746069e+16-1.10890054e+14j, ...,\n",
       "        1.65461240e+16+1.38344371e+14j, 1.65430223e+16+1.41617874e+14j,\n",
       "        1.65398354e+16+1.44825892e+14j],\n",
       "       [4.01363913e+13-1.29006129e+13j, 4.01363913e+13-1.29006129e+13j,\n",
       "        4.01363913e+13-1.29006129e+13j, ...,\n",
       "        4.01363913e+13-1.29006129e+13j, 4.01363913e+13-1.29006129e+13j,\n",
       "        4.01363913e+13-1.29006129e+13j],\n",
       "       [1.00440076e+13-1.61257504e+12j, 1.00440076e+13-1.61257504e+12j,\n",
       "        1.00440076e+13-1.61257504e+12j, ...,\n",
       "        1.00440076e+13-1.61257504e+12j, 1.00440076e+13-1.61257504e+12j,\n",
       "        1.00440076e+13-1.61257504e+12j],\n",
       "       ...,\n",
       "       [4.47135556e+12+4.77797990e+11j, 4.47135556e+12+4.77797990e+11j,\n",
       "        4.47135556e+12+4.77797990e+11j, ...,\n",
       "        4.47135556e+12+4.77797990e+11j, 4.47135556e+12+4.77797990e+11j,\n",
       "        4.47135556e+12+4.77797990e+11j],\n",
       "       [1.00440076e+13+1.61257504e+12j, 1.00440076e+13+1.61257504e+12j,\n",
       "        1.00440076e+13+1.61257504e+12j, ...,\n",
       "        1.00440076e+13+1.61257504e+12j, 1.00440076e+13+1.61257504e+12j,\n",
       "        1.00440076e+13+1.61257504e+12j],\n",
       "       [4.01363913e+13+1.29006129e+13j, 4.01363913e+13+1.29006129e+13j,\n",
       "        4.01363913e+13+1.29006129e+13j, ...,\n",
       "        4.01363913e+13+1.29006129e+13j, 4.01363913e+13+1.29006129e+13j,\n",
       "        4.01363913e+13+1.29006129e+13j]])"
      ]
     },
     "execution_count": 23,
     "metadata": {},
     "output_type": "execute_result"
    }
   ],
   "source": [
    "(kern@kernc)"
   ]
  },
  {
   "cell_type": "code",
   "execution_count": 24,
   "metadata": {},
   "outputs": [
    {
     "data": {
      "text/plain": [
       "array([[1.65824672e+16+1.61625837e+14j, 1.65872334e+16+1.59951902e+14j,\n",
       "        1.65919491e+16+1.58180141e+14j, ...,\n",
       "        1.66634662e+16-9.10542838e+13j, 1.66603644e+16-9.43277868e+13j,\n",
       "        1.66571775e+16-9.75358046e+13j],\n",
       "       [1.65835078e+16+1.60578321e+14j, 1.65882740e+16+1.58904386e+14j,\n",
       "        1.65929897e+16+1.57132625e+14j, ...,\n",
       "        1.66645068e+16-9.21017998e+13j, 1.66614050e+16-9.53753028e+13j,\n",
       "        1.66582181e+16-9.85833206e+13j],\n",
       "       [1.65845206e+16+1.59509423e+14j, 1.65892869e+16+1.57835487e+14j,\n",
       "        1.65940025e+16+1.56063726e+14j, ...,\n",
       "        1.66655196e+16-9.31706988e+13j, 1.66624178e+16-9.64442018e+13j,\n",
       "        1.66592310e+16-9.96522195e+13j],\n",
       "       ...,\n",
       "       [1.65611681e+16+7.81267532e+13j, 1.65659343e+16+7.64528179e+13j,\n",
       "        1.65706500e+16+7.46810567e+13j, ...,\n",
       "        1.66421671e+16-1.74553368e+14j, 1.66390653e+16-1.77826871e+14j,\n",
       "        1.66358784e+16-1.81034889e+14j],\n",
       "       [1.65596283e+16+7.75482190e+13j, 1.65643945e+16+7.58742837e+13j,\n",
       "        1.65691102e+16+7.41025224e+13j, ...,\n",
       "        1.66406273e+16-1.75131902e+14j, 1.66375255e+16-1.78405405e+14j,\n",
       "        1.66343386e+16-1.81613423e+14j],\n",
       "       [1.65580720e+16+7.70016278e+13j, 1.65628382e+16+7.53276925e+13j,\n",
       "        1.65675539e+16+7.35559313e+13j, ...,\n",
       "        1.66390710e+16-1.75678493e+14j, 1.66359692e+16-1.78951997e+14j,\n",
       "        1.66327823e+16-1.82160014e+14j]])"
      ]
     },
     "execution_count": 24,
     "metadata": {},
     "output_type": "execute_result"
    }
   ],
   "source": [
    "CC2"
   ]
  },
  {
   "cell_type": "code",
   "execution_count": 25,
   "metadata": {},
   "outputs": [
    {
     "data": {
      "text/plain": [
       "-0.18"
      ]
     },
     "execution_count": 25,
     "metadata": {},
     "output_type": "execute_result"
    }
   ],
   "source": [
    "#locate maximum and map back to original pixel grid\n",
    "CCmax=np.abs(np.amax(CC2))\n",
    "loc=np.argmax(CC2)\n",
    "loc1,loc2=np.unravel_index(loc,CC2.shape)\n",
    "\n",
    "rloc=loc1-dftshift-1\n",
    "cloc=loc2-dftshift-1\n",
    "\n",
    "row_shift=row_shift+rloc/XCF_mesh\n",
    "col_shift=col_shift+cloc/XCF_mesh\n",
    "row_shift"
   ]
  },
  {
   "cell_type": "code",
   "execution_count": 26,
   "metadata": {},
   "outputs": [],
   "source": [
    "#normalise output\n",
    "bf1=np.sum(ROI_test.flatten()*np.conjugate(ROI_test.flatten()))\n",
    "bf2=np.sum(ROI_ref.flatten()*np.conjugate(ROI_ref.flatten()))"
   ]
  },
  {
   "cell_type": "code",
   "execution_count": 28,
   "metadata": {},
   "outputs": [
    {
     "name": "stdout",
     "output_type": "stream",
     "text": [
      "0.5887683074825878\n",
      "-0.18\n",
      "0.14\n",
      "0\n",
      "0\n"
     ]
    },
    {
     "name": "stderr",
     "output_type": "stream",
     "text": [
      "/Users/tom/opt/anaconda3/envs/tpm/lib/python3.7/site-packages/ipykernel_launcher.py:1: ComplexWarning: Casting complex values to real discards the imaginary part\n",
      "  \"\"\"Entry point for launching an IPython kernel.\n"
     ]
    }
   ],
   "source": [
    "print(CCmax/np.sqrt(float(bf1*bf2)))\n",
    "print(row_shift)\n",
    "print(col_shift)\n",
    "print(rlocsave)\n",
    "print(clocsave)"
   ]
  },
  {
   "cell_type": "code",
   "execution_count": null,
   "metadata": {},
   "outputs": [],
   "source": []
  }
 ],
 "metadata": {
  "kernelspec": {
   "display_name": "Python 3.7.6 64-bit ('tpm': conda)",
   "language": "python",
   "name": "python37664bittpmcondaa2071b44aed14ee0b5d3d9d2c6f7b2dd"
  },
  "language_info": {
   "codemirror_mode": {
    "name": "ipython",
    "version": 3
   },
   "file_extension": ".py",
   "mimetype": "text/x-python",
   "name": "python",
   "nbconvert_exporter": "python",
   "pygments_lexer": "ipython3",
   "version": "3.7.6"
  }
 },
 "nbformat": 4,
 "nbformat_minor": 2
}
