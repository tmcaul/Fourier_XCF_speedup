{
 "cells": [
  {
   "cell_type": "code",
   "execution_count": 1,
   "metadata": {},
   "outputs": [],
   "source": [
    "import os as o\n",
    "\n",
    "from pathlib import Path\n",
    "import time\n",
    "import crosspy as xpy\n",
    "\n",
    "t0=time.time()\n",
    "\n",
    "folder_path=Path(r'/Users/tom/Documents/GitHub/crosspy/data/Tom')\n",
    "Images = xpy.Imset(folder_path,'tif',[0,1])\n",
    "\n",
    "# # fft filter settings: high pass, high pass width, low pass, low pass width\n",
    "filter_settings=[4,2,15,8]\n",
    "roi_1stpass = dict(size_pass = 300, overlap_percentage = 75, xcf_mesh=400)\n",
    "\n",
    "# # build the dic class (but don't run it yet):\n",
    "dic_1stpass=xpy.DIC(Images[0,1],roi_1stpass,filter_settings)"
   ]
  },
  {
   "cell_type": "code",
   "execution_count": 5,
   "metadata": {},
   "outputs": [],
   "source": [
    "dic_1stpass.ims[0:100,0:100,0];\n",
    "dic_1stpass.ims[0:100,0:100,1];"
   ]
  },
  {
   "cell_type": "code",
   "execution_count": null,
   "metadata": {},
   "outputs": [],
   "source": []
  }
 ],
 "metadata": {
  "kernelspec": {
   "display_name": "Python 3.7.6 64-bit ('tpm': conda)",
   "language": "python",
   "name": "python37664bittpmcondaa2071b44aed14ee0b5d3d9d2c6f7b2dd"
  },
  "language_info": {
   "codemirror_mode": {
    "name": "ipython",
    "version": 3
   },
   "file_extension": ".py",
   "mimetype": "text/x-python",
   "name": "python",
   "nbconvert_exporter": "python",
   "pygments_lexer": "ipython3",
   "version": "3.7.6"
  }
 },
 "nbformat": 4,
 "nbformat_minor": 2
}
