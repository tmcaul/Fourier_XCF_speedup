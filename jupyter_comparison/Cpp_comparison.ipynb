{
 "cells": [
  {
   "cell_type": "code",
   "execution_count": 1,
   "metadata": {},
   "outputs": [],
   "source": [
    "import numpy as np\n",
    "import scipy.signal as sp\n",
    "import pandas as pd"
   ]
  },
  {
   "cell_type": "code",
   "execution_count": 2,
   "metadata": {},
   "outputs": [],
   "source": [
    "n=100\n",
    "\n",
    "XCF_roisize=120\n",
    "XCF_mesh=50\n",
    "data_fill=[i for i in range(0,100)]\n",
    "red_roisize=len(data_fill)\n"
   ]
  },
  {
   "cell_type": "code",
   "execution_count": 3,
   "metadata": {},
   "outputs": [],
   "source": [
    "# im1_df=pd.read_csv('/Users/tom/Documents/GitHub/Fourier_XCF_speedup/im1')\n",
    "# im2_df=pd.read_csv('/Users/tom/Documents/GitHub/Fourier_XCF_speedup/im2')\n",
    "\n",
    "# array1=im1_df.to_numpy()\n",
    "# array2=im2_df.to_numpy()"
   ]
  },
  {
   "cell_type": "code",
   "execution_count": 4,
   "metadata": {},
   "outputs": [],
   "source": [
    "array1=np.zeros((n,n))\n",
    "array2=np.zeros((n,n))\n",
    "\n",
    "for i in range(0,n):\n",
    "    for j in range(0,n):\n",
    "        array1[i][j]=2*i*i*(i-50)+5+7*j+2;\n",
    "\n",
    "for i in range(0,n):\n",
    "    for j in range(0,n):\n",
    "        array2[i][j]=7*j*j*(j-5)+8*i;"
   ]
  },
  {
   "cell_type": "code",
   "execution_count": 5,
   "metadata": {},
   "outputs": [],
   "source": [
    "ROI_ref=np.fft.fft2(array1)\n",
    "ROI_test=np.fft.fft2(array2)"
   ]
  },
  {
   "cell_type": "code",
   "execution_count": 6,
   "metadata": {},
   "outputs": [],
   "source": [
    "CC=np.zeros((XCF_roisize*2,XCF_roisize*2),dtype='complex')\n",
    "\n",
    "ind1=int(XCF_roisize-np.floor(red_roisize/2))\n",
    "ind2=int(XCF_roisize+np.floor((red_roisize-1)/2))+1"
   ]
  },
  {
   "cell_type": "code",
   "execution_count": 7,
   "metadata": {},
   "outputs": [],
   "source": [
    "f=np.fft.fftshift(ROI_test*np.conj(ROI_ref))\n",
    "CC[ind1:ind2,ind1:ind2]= f"
   ]
  },
  {
   "cell_type": "code",
   "execution_count": 8,
   "metadata": {},
   "outputs": [
    {
     "data": {
      "text/plain": [
       "array([[0.+0.j, 0.+0.j, 0.+0.j, ..., 0.+0.j, 0.+0.j, 0.+0.j],\n",
       "       [0.+0.j, 0.+0.j, 0.+0.j, ..., 0.+0.j, 0.+0.j, 0.+0.j],\n",
       "       [0.+0.j, 0.+0.j, 0.+0.j, ..., 0.+0.j, 0.+0.j, 0.+0.j],\n",
       "       ...,\n",
       "       [0.+0.j, 0.+0.j, 0.+0.j, ..., 0.+0.j, 0.+0.j, 0.+0.j],\n",
       "       [0.+0.j, 0.+0.j, 0.+0.j, ..., 0.+0.j, 0.+0.j, 0.+0.j],\n",
       "       [0.+0.j, 0.+0.j, 0.+0.j, ..., 0.+0.j, 0.+0.j, 0.+0.j]])"
      ]
     },
     "execution_count": 8,
     "metadata": {},
     "output_type": "execute_result"
    }
   ],
   "source": [
    "CC"
   ]
  },
  {
   "cell_type": "code",
   "execution_count": 9,
   "metadata": {},
   "outputs": [
    {
     "data": {
      "text/plain": [
       "array([[ 4.51013605e+14+1.85978495e-05j, -4.51013010e+14+1.92176896e+08j,\n",
       "         4.51000135e+14-9.94780816e+07j, ...,\n",
       "        -4.50937355e+14+1.40683252e+08j,  4.50967095e+14+9.94780816e+07j,\n",
       "        -4.50996358e+14-1.92176896e+08j],\n",
       "       [-4.51010219e+14+3.28683094e+07j,  4.51009624e+14-2.25045206e+08j,\n",
       "        -4.50996748e+14+1.32346391e+08j, ...,\n",
       "         4.50933968e+14-1.73551562e+08j, -4.50963709e+14-6.66097722e+07j,\n",
       "         4.50992971e+14+1.59308587e+08j],\n",
       "       [ 4.51004795e+14-1.70138889e+07j, -4.51004200e+14+2.09190785e+08j,\n",
       "         4.50991325e+14-1.16491970e+08j, ...,\n",
       "        -4.50928545e+14+1.57697141e+08j,  4.50958285e+14+8.24641927e+07j,\n",
       "        -4.50987548e+14-1.75163007e+08j],\n",
       "       ...,\n",
       "       [-4.51010295e+14+2.40612724e+07j,  4.51009700e+14-2.16238169e+08j,\n",
       "        -4.50996824e+14+1.23539354e+08j, ...,\n",
       "         4.50934044e+14-1.64744525e+08j, -4.50963785e+14-7.54168092e+07j,\n",
       "         4.50993047e+14+1.68115624e+08j],\n",
       "       [ 4.51012201e+14+1.70138889e+07j, -4.51011606e+14+1.75163007e+08j,\n",
       "         4.50998730e+14-8.24641927e+07j, ...,\n",
       "        -4.50935950e+14+1.23669363e+08j,  4.50965691e+14+1.16491970e+08j,\n",
       "        -4.50994953e+14-2.09190785e+08j],\n",
       "       [-4.51013951e+14-3.28683094e+07j,  4.51013356e+14-1.59308587e+08j,\n",
       "        -4.51000481e+14+6.66097722e+07j, ...,\n",
       "         4.50937701e+14-1.07814943e+08j, -4.50967441e+14-1.32346391e+08j,\n",
       "         4.50996704e+14+2.25045206e+08j]])"
      ]
     },
     "execution_count": 9,
     "metadata": {},
     "output_type": "execute_result"
    }
   ],
   "source": [
    "CC=np.fft.ifft2(CC)\n",
    "#CC[3,4]=1234+0j\n",
    "CC"
   ]
  },
  {
   "cell_type": "code",
   "execution_count": 10,
   "metadata": {},
   "outputs": [],
   "source": [
    "chi=np.amax(CC)\n",
    "loc=np.argmax(CC)\n",
    "rloc,cloc=np.unravel_index(loc,CC.shape)\n",
    "rlocsave=rloc\n",
    "clocsave=cloc"
   ]
  },
  {
   "cell_type": "code",
   "execution_count": 11,
   "metadata": {},
   "outputs": [],
   "source": [
    "XCF_roisize2=2*XCF_roisize\n",
    "if rloc > XCF_roisize:\n",
    "    row_shift = rloc - XCF_roisize2\n",
    "else:\n",
    "    row_shift = rloc\n",
    "\n",
    "if cloc > XCF_roisize:\n",
    "    col_shift = cloc - XCF_roisize2\n",
    "else:\n",
    "    col_shift = cloc\n",
    "\n",
    "row_shift = row_shift/2\n",
    "col_shift = col_shift/2"
   ]
  },
  {
   "cell_type": "code",
   "execution_count": 12,
   "metadata": {},
   "outputs": [
    {
     "data": {
      "text/plain": [
       "0.0"
      ]
     },
     "execution_count": 12,
     "metadata": {},
     "output_type": "execute_result"
    }
   ],
   "source": [
    "row_shift"
   ]
  },
  {
   "cell_type": "code",
   "execution_count": 13,
   "metadata": {},
   "outputs": [
    {
     "data": {
      "text/plain": [
       "0.0"
      ]
     },
     "execution_count": 13,
     "metadata": {},
     "output_type": "execute_result"
    }
   ],
   "source": [
    "col_shift"
   ]
  },
  {
   "cell_type": "code",
   "execution_count": 14,
   "metadata": {},
   "outputs": [],
   "source": [
    "#DFT computation\n",
    "row_shift = round(row_shift*XCF_mesh)/XCF_mesh\n",
    "col_shift = round(col_shift*XCF_mesh)/XCF_mesh\n",
    "dftshift = np.floor(np.ceil(XCF_mesh*1.5)/2)\n",
    "\n",
    "#matrix multiply DFT around current shift estimate\n",
    "roff=dftshift-row_shift*XCF_mesh\n",
    "coff=dftshift-col_shift*XCF_mesh"
   ]
  },
  {
   "cell_type": "code",
   "execution_count": 15,
   "metadata": {},
   "outputs": [
    {
     "data": {
      "text/plain": [
       "0.0"
      ]
     },
     "execution_count": 15,
     "metadata": {},
     "output_type": "execute_result"
    }
   ],
   "source": [
    "row_shift"
   ]
  },
  {
   "cell_type": "code",
   "execution_count": 16,
   "metadata": {},
   "outputs": [],
   "source": [
    "#computer kernels and obtain DFT by matrix products\n",
    "prefac=-1j*2*np.pi/(XCF_roisize*XCF_mesh)"
   ]
  },
  {
   "cell_type": "code",
   "execution_count": 17,
   "metadata": {},
   "outputs": [
    {
     "data": {
      "text/plain": [
       "-0.0010471975511965976j"
      ]
     },
     "execution_count": 17,
     "metadata": {},
     "output_type": "execute_result"
    }
   ],
   "source": [
    "prefac"
   ]
  },
  {
   "cell_type": "code",
   "execution_count": 18,
   "metadata": {},
   "outputs": [],
   "source": [
    "c1=[i for i in range(0,(XCF_roisize))]\n",
    "c_i=np.fft.ifftshift(c1).T - np.floor(XCF_roisize/2)\n",
    "c_i=c_i[data_fill]\n",
    "c_i=np.expand_dims(c_i,1)\n",
    "\n",
    "r_i=np.fft.ifftshift(c1) - np.floor(XCF_roisize/2)\n",
    "r_i=r_i[data_fill]\n",
    "r_i=np.expand_dims(r_i,0)"
   ]
  },
  {
   "cell_type": "code",
   "execution_count": 19,
   "metadata": {},
   "outputs": [
    {
     "data": {
      "text/plain": [
       "array([[  0.,   1.,   2.,   3.,   4.,   5.,   6.,   7.,   8.,   9.,  10.,\n",
       "         11.,  12.,  13.,  14.,  15.,  16.,  17.,  18.,  19.,  20.,  21.,\n",
       "         22.,  23.,  24.,  25.,  26.,  27.,  28.,  29.,  30.,  31.,  32.,\n",
       "         33.,  34.,  35.,  36.,  37.,  38.,  39.,  40.,  41.,  42.,  43.,\n",
       "         44.,  45.,  46.,  47.,  48.,  49.,  50.,  51.,  52.,  53.,  54.,\n",
       "         55.,  56.,  57.,  58.,  59., -60., -59., -58., -57., -56., -55.,\n",
       "        -54., -53., -52., -51., -50., -49., -48., -47., -46., -45., -44.,\n",
       "        -43., -42., -41., -40., -39., -38., -37., -36., -35., -34., -33.,\n",
       "        -32., -31., -30., -29., -28., -27., -26., -25., -24., -23., -22.,\n",
       "        -21.]])"
      ]
     },
     "execution_count": 19,
     "metadata": {},
     "output_type": "execute_result"
    }
   ],
   "source": [
    "r_i"
   ]
  },
  {
   "cell_type": "code",
   "execution_count": 20,
   "metadata": {},
   "outputs": [],
   "source": [
    "m=np.array([i for i in range(0,int(np.ceil(XCF_mesh*1.5)))])\n",
    "m1=np.expand_dims(m,0)\n",
    "m2=np.expand_dims(m,1)"
   ]
  },
  {
   "cell_type": "code",
   "execution_count": 21,
   "metadata": {},
   "outputs": [],
   "source": [
    "import numexpr as ne\n",
    "\n",
    "arg1=(c_i)@(m1-coff)\n",
    "arg2=(m2-roff)@(r_i)\n",
    "\n",
    "kernc=ne.evaluate('exp(prefac*arg1)')\n",
    "kernr=ne.evaluate('exp(prefac*arg2)')\n",
    "kern = ROI_ref*ne.evaluate('conj(ROI_test)')\n",
    "arg3=kernr@kern@kernc\n",
    "CC2 = ne.evaluate('conj(arg3)')"
   ]
  },
  {
   "cell_type": "code",
   "execution_count": 22,
   "metadata": {},
   "outputs": [
    {
     "data": {
      "text/plain": [
       "-0.0010471975511965976j"
      ]
     },
     "execution_count": 22,
     "metadata": {},
     "output_type": "execute_result"
    }
   ],
   "source": [
    "prefac"
   ]
  },
  {
   "cell_type": "code",
   "execution_count": 23,
   "metadata": {},
   "outputs": [
    {
     "data": {
      "text/plain": [
       "array([[2.59607032e+19-8.65591678e+15j, 2.59611595e+19-8.56414549e+15j,\n",
       "        2.59616127e+19-8.46305071e+15j, ...,\n",
       "        2.59718754e+19+1.24027452e+16j, 2.59716538e+19+1.27193399e+16j,\n",
       "        2.59714241e+19+1.30312520e+16j],\n",
       "       [1.37079242e+15-1.27071037e+15j, 1.37079242e+15-1.27071037e+15j,\n",
       "        1.37079242e+15-1.27071037e+15j, ...,\n",
       "        1.37079242e+15-1.27071037e+15j, 1.37079242e+15-1.27071037e+15j,\n",
       "        1.37079242e+15-1.27071037e+15j],\n",
       "       [4.58680930e+14-1.58838642e+14j, 4.58680930e+14-1.58838642e+14j,\n",
       "        4.58680930e+14-1.58838642e+14j, ...,\n",
       "        4.58680930e+14-1.58838642e+14j, 4.58680930e+14-1.58838642e+14j,\n",
       "        4.58680930e+14-1.58838642e+14j],\n",
       "       ...,\n",
       "       [2.13727656e+14+4.70631020e+13j, 2.13727656e+14+4.70631020e+13j,\n",
       "        2.13727656e+14+4.70631020e+13j, ...,\n",
       "        2.13727656e+14+4.70631020e+13j, 2.13727656e+14+4.70631020e+13j,\n",
       "        2.13727656e+14+4.70631020e+13j],\n",
       "       [4.58680930e+14+1.58838642e+14j, 4.58680930e+14+1.58838642e+14j,\n",
       "        4.58680930e+14+1.58838642e+14j, ...,\n",
       "        4.58680930e+14+1.58838642e+14j, 4.58680930e+14+1.58838642e+14j,\n",
       "        4.58680930e+14+1.58838642e+14j],\n",
       "       [1.37079242e+15+1.27071037e+15j, 1.37079242e+15+1.27071037e+15j,\n",
       "        1.37079242e+15+1.27071037e+15j, ...,\n",
       "        1.37079242e+15+1.27071037e+15j, 1.37079242e+15+1.27071037e+15j,\n",
       "        1.37079242e+15+1.27071037e+15j]])"
      ]
     },
     "execution_count": 23,
     "metadata": {},
     "output_type": "execute_result"
    }
   ],
   "source": [
    "(kern@kernc)"
   ]
  },
  {
   "cell_type": "code",
   "execution_count": 24,
   "metadata": {},
   "outputs": [
    {
     "data": {
      "text/plain": [
       "array([[2.59659876e+19+1.07829656e+16j, 2.59664440e+19+1.06911943e+16j,\n",
       "        2.59668972e+19+1.05900995e+16j, ...,\n",
       "        2.59771599e+19-1.02756964e+16j, 2.59769383e+19-1.05922911e+16j,\n",
       "        2.59767086e+19-1.09042033e+16j],\n",
       "       [2.59660158e+19+1.07282549e+16j, 2.59664722e+19+1.06364837e+16j,\n",
       "        2.59669254e+19+1.05353889e+16j, ...,\n",
       "        2.59771881e+19-1.03304070e+16j, 2.59769665e+19-1.06470018e+16j,\n",
       "        2.59767368e+19-1.09589139e+16j],\n",
       "       [2.59660426e+19+1.06729775e+16j, 2.59664990e+19+1.05812062e+16j,\n",
       "        2.59669521e+19+1.04801114e+16j, ...,\n",
       "        2.59772148e+19-1.03856845e+16j, 2.59769933e+19-1.07022792e+16j,\n",
       "        2.59767635e+19-1.10141913e+16j],\n",
       "       ...,\n",
       "       [2.59637424e+19+7.52187652e+15j, 2.59641987e+19+7.43010524e+15j,\n",
       "        2.59646519e+19+7.32901045e+15j, ...,\n",
       "        2.59749146e+19-1.35367854e+16j, 2.59746930e+19-1.38533802e+16j,\n",
       "        2.59744633e+19-1.41652923e+16j],\n",
       "       [2.59636637e+19+7.51490002e+15j, 2.59641201e+19+7.42312874e+15j,\n",
       "        2.59645732e+19+7.32203395e+15j, ...,\n",
       "        2.59748359e+19-1.35437619e+16j, 2.59746144e+19-1.38603567e+16j,\n",
       "        2.59743846e+19-1.41722688e+16j],\n",
       "       [2.59635847e+19+7.50953049e+15j, 2.59640411e+19+7.41775921e+15j,\n",
       "        2.59644942e+19+7.31666442e+15j, ...,\n",
       "        2.59747569e+19-1.35491315e+16j, 2.59745354e+19-1.38657262e+16j,\n",
       "        2.59743056e+19-1.41776383e+16j]])"
      ]
     },
     "execution_count": 24,
     "metadata": {},
     "output_type": "execute_result"
    }
   ],
   "source": [
    "CC2"
   ]
  },
  {
   "cell_type": "code",
   "execution_count": 25,
   "metadata": {},
   "outputs": [
    {
     "data": {
      "text/plain": [
       "-0.4"
      ]
     },
     "execution_count": 25,
     "metadata": {},
     "output_type": "execute_result"
    }
   ],
   "source": [
    "#locate maximum and map back to original pixel grid\n",
    "CCmax=np.abs(np.amax(CC2))\n",
    "loc=np.argmax(CC2)\n",
    "loc1,loc2=np.unravel_index(loc,CC2.shape)\n",
    "\n",
    "rloc=loc1-dftshift-1\n",
    "cloc=loc2-dftshift-1\n",
    "\n",
    "row_shift=row_shift+rloc/XCF_mesh\n",
    "col_shift=col_shift+cloc/XCF_mesh\n",
    "row_shift"
   ]
  },
  {
   "cell_type": "code",
   "execution_count": 26,
   "metadata": {},
   "outputs": [],
   "source": [
    "#normalise output\n",
    "bf1=np.sum(ROI_test.flatten()*np.conjugate(ROI_test.flatten()))\n",
    "bf2=np.sum(ROI_ref.flatten()*np.conjugate(ROI_ref.flatten()))"
   ]
  },
  {
   "cell_type": "code",
   "execution_count": 27,
   "metadata": {},
   "outputs": [
    {
     "name": "stdout",
     "output_type": "stream",
     "text": [
      "0.335767238343101\n",
      "-0.4\n",
      "0.26\n",
      "0\n",
      "0\n"
     ]
    },
    {
     "name": "stderr",
     "output_type": "stream",
     "text": [
      "/Users/tom/opt/anaconda3/envs/tpm/lib/python3.7/site-packages/ipykernel_launcher.py:1: ComplexWarning: Casting complex values to real discards the imaginary part\n",
      "  \"\"\"Entry point for launching an IPython kernel.\n"
     ]
    }
   ],
   "source": [
    "print(CCmax/np.sqrt(float(bf1*bf2)))\n",
    "print(row_shift)\n",
    "print(col_shift)"
   ]
  },
  {
   "cell_type": "code",
   "execution_count": null,
   "metadata": {},
   "outputs": [],
   "source": []
  }
 ],
 "metadata": {
  "kernelspec": {
   "display_name": "Python 3.7.6 64-bit ('tpm': conda)",
   "language": "python",
   "name": "python37664bittpmcondaa2071b44aed14ee0b5d3d9d2c6f7b2dd"
  },
  "language_info": {
   "codemirror_mode": {
    "name": "ipython",
    "version": 3
   },
   "file_extension": ".py",
   "mimetype": "text/x-python",
   "name": "python",
   "nbconvert_exporter": "python",
   "pygments_lexer": "ipython3",
   "version": "3.7.6"
  }
 },
 "nbformat": 4,
 "nbformat_minor": 2
}
